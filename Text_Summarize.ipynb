{
  "nbformat": 4,
  "nbformat_minor": 0,
  "metadata": {
    "colab": {
      "provenance": [],
      "gpuType": "T4"
    },
    "kernelspec": {
      "name": "python3",
      "display_name": "Python 3"
    },
    "language_info": {
      "name": "python"
    },
    "accelerator": "GPU"
  },
  "cells": [
    {
      "cell_type": "code",
      "source": [
        "article_text=\"\"\"\n",
        "\n",
        "\n",
        "Dosya incelenerek gereği düşünüldü;\n",
        "... Ormanı içerisinde bulunan ...’ye ait tuvaletlerde gerçekleşen hırsızlık eylemi ile ilgili olarak iddianamede, suç tarihinin 08/06/2015 olduğu belirtilmiş ise de, 01.06.2015 tarihinde ... mahallesi ... Parkı içerisinde bulunan yine ...’ye ait tuvaletlerde meydana gelen hırsızlığın detaylandırıldığı, bahse konu hırsızlık eylemini anlatılırken... ormanı ile ... mahallesi ... parkının aynı yer olarak anlatıldığı, ancak dosya kapsamında yapılan incelemede, bahse konu yerlerin farklı olduğu, ... mahallesi ... Parkta gerçekleşen hırsızlığın 01.06.2015, ... ormanı içinde gerçekleşen hırsızlığın ise 08.06.2015 tarihinde gerçekleştiği, tespit edilen parmak izlerinin ... Parkında gerçekleşen hırsızlık olayı ile ilgili olduğu, ... parkta gerçekleşen hırsızlık nedeniyle ise, sanığın ... 49. Asliye Ceza Mahkemesinin 2015/355 E. ve 2015/472 K. sayılı kararıyla cezalandırıldığının anlaşıldığı, CD izleme tutanağında, temyiz dışı sanık ...’in hırsızlığı gerçekleştirdiği, ancak hırsızlık eylemine iştirak eden diğer şahısların tespit edilemediği, sanık ...’un talimat ile alınan savunmasında ... ve ... ile gezdikleri sırada ikisinin yanından ayrıldıklarını ve daha sonra bozuk para ile yanına geldiklerini ifade ettiği, sanığın bahse konu anlatımının hangi olaya ilişkin olduğunun anlaşılamadığı da gözetilerek, sanığa savunmasının hangi tarihte ve yerde gerçekleşen hırsızlığa ilişkin olduğu sorularak, yine sanığın 08.06.2015 tarihinde gerçekleşen hırsızlık olayı ile ilgili parmak izinin olup olmadığı da tespit edilerek sonucuna göre sanığın hukuki durumunun takdir ve tayini gerekirken, eksik inceleme ve kovuşturma sonucu yazılı şekilde hüküm kurulması,\n",
        "Bozmayı gerektirmiş, sanığın temyiz itirazları bu itibarla yerinde görülmüş olduğundan hükümlerin bu sebepten dolayı isteme aykırı olarak BOZULMASINA, 07/07/2021 gününde oy birliğiyle karar verildi.\n",
        "\n",
        "\n",
        "\"\"\""
      ],
      "metadata": {
        "id": "XgaAblBPSL5h"
      },
      "execution_count": 127,
      "outputs": []
    },
    {
      "cell_type": "code",
      "source": [
        "expression_to_remove = \"...\"\n",
        "article_text = article_text.replace(expression_to_remove, \"\")\n",
        "expression_to_remove_2 = \",\"\n",
        "article_text = article_text.replace(expression_to_remove_2, \"\")"
      ],
      "metadata": {
        "id": "c8lQgCjlXn2L"
      },
      "execution_count": 128,
      "outputs": []
    },
    {
      "cell_type": "code",
      "source": [
        "import nltk\n",
        "import re\n",
        "import heapq\n",
        "\n",
        "# Your article text here\n",
        "\n",
        "# Preprocessing the article text\n",
        "article_text = re.sub(r'\\[[0-9]*\\]', ' ', article_text)\n",
        "article_text = re.sub(r'\\s+', ' ', article_text)\n",
        "formatted_article_text = re.sub('[^a-zA-Z]', ' ', article_text)\n",
        "formatted_article_text = re.sub(r'\\s+', ' ', formatted_article_text)\n",
        "\n",
        "# Download NLTK resources\n",
        "nltk.download('punkt')\n",
        "nltk.download('stopwords')\n",
        "\n",
        "# Tokenize sentences\n",
        "sentence_list = nltk.sent_tokenize(article_text)\n",
        "\n",
        "# Get Turkish stopwords\n",
        "stopwords = nltk.corpus.stopwords.words('turkish')\n",
        "\n",
        "# Calculate word frequencies\n",
        "word_frequencies = {}\n",
        "for word in nltk.word_tokenize(formatted_article_text.lower()):\n",
        "    if word not in stopwords:\n",
        "        if word not in word_frequencies.keys():\n",
        "            word_frequencies[word] = 1\n",
        "        else:\n",
        "            word_frequencies[word] += 1\n",
        "\n",
        "# Normalize word frequencies\n",
        "maximum_frequency = max(word_frequencies.values())\n",
        "for word in word_frequencies.keys():\n",
        "    word_frequencies[word] = word_frequencies[word] / maximum_frequency\n",
        "\n",
        "# Calculate sentence scores\n",
        "sentence_scores = {}\n",
        "summary_words = []\n",
        "summary_word_count = 0\n",
        "\n",
        "for sentence in sentence_list:\n",
        "    words = nltk.word_tokenize(sentence.lower())\n",
        "    sentence_length = len(words)\n",
        "    if summary_word_count + sentence_length <= 100:\n",
        "        for word in words:\n",
        "            if word in word_frequencies.keys():\n",
        "                if sentence not in sentence_scores.keys():\n",
        "                    sentence_scores[sentence] = word_frequencies[word]\n",
        "                else:\n",
        "                    sentence_scores[sentence] += word_frequencies[word]\n",
        "        summary_words.extend(words)\n",
        "        summary_word_count += sentence_length\n",
        "\n",
        "# Generate the summary\n",
        "ozet_text = ' '.join(summary_words)"
      ],
      "metadata": {
        "colab": {
          "base_uri": "https://localhost:8080/"
        },
        "id": "IaotYm74WgAN",
        "outputId": "e5380a3e-39b6-4e85-f766-98d8de39c464"
      },
      "execution_count": 129,
      "outputs": [
        {
          "output_type": "stream",
          "name": "stderr",
          "text": [
            "[nltk_data] Downloading package punkt to /root/nltk_data...\n",
            "[nltk_data]   Package punkt is already up-to-date!\n",
            "[nltk_data] Downloading package stopwords to /root/nltk_data...\n",
            "[nltk_data]   Package stopwords is already up-to-date!\n"
          ]
        }
      ]
    },
    {
      "cell_type": "code",
      "source": [
        "sonuc=ozet_text"
      ],
      "metadata": {
        "id": "NF_UBYo6WgHN"
      },
      "execution_count": 130,
      "outputs": []
    },
    {
      "cell_type": "code",
      "source": [
        "sonuc"
      ],
      "metadata": {
        "colab": {
          "base_uri": "https://localhost:8080/",
          "height": 105
        },
        "id": "43mt5TY9WgJO",
        "outputId": "792b6ec5-00b2-4a71-f335-c2be9b543c62"
      },
      "execution_count": 131,
      "outputs": [
        {
          "output_type": "execute_result",
          "data": {
            "text/plain": [
              "'dosya incelenerek gereği düşünüldü ; ormanı içerisinde bulunan ’ ye ait tuvaletlerde gerçekleşen hırsızlık eylemi ile ilgili olarak iddianamede suç tarihinin 08/06/2015 olduğu belirtilmiş ise de 01.06.2015 tarihinde mahallesi parkı içerisinde bulunan yine ’ ye ait tuvaletlerde meydana gelen hırsızlığın detaylandırıldığı bahse konu hırsızlık eylemini anlatılırken ormanı ile mahallesi parkının aynı yer olarak anlatıldığı ancak dosya kapsamında yapılan incelemede bahse konu yerlerin farklı olduğu mahallesi parkta gerçekleşen hırsızlığın 01.06.2015 ormanı içinde gerçekleşen hırsızlığın ise 08.06.2015 tarihinde gerçekleştiği tespit edilen parmak izlerinin parkında gerçekleşen hırsızlık olayı ile ilgili olduğu parkta gerçekleşen hırsızlık nedeniyle ise sanığın 49 .'"
            ],
            "application/vnd.google.colaboratory.intrinsic+json": {
              "type": "string"
            }
          },
          "metadata": {},
          "execution_count": 131
        }
      ]
    },
    {
      "cell_type": "code",
      "source": [],
      "metadata": {
        "id": "X6gMX6O_WgLb"
      },
      "execution_count": null,
      "outputs": []
    }
  ]
}